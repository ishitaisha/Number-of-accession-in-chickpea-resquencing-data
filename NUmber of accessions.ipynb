{
 "cells": [
  {
   "cell_type": "code",
   "execution_count": 2,
   "id": "d91619a0",
   "metadata": {},
   "outputs": [],
   "source": [
    "import csv\n",
    "import numpy as np \n",
    "import pandas as pd"
   ]
  },
  {
   "cell_type": "code",
   "execution_count": 15,
   "id": "cd861797",
   "metadata": {},
   "outputs": [
    {
     "name": "stdout",
     "output_type": "stream",
     "text": [
      "581980\n"
     ]
    }
   ],
   "source": [
    "i=0\n",
    "with open(\"ishita.tsv\", \"r\") as hapmap:\n",
    "        tsv_reader = csv.reader(hapmap, delimiter=\"\\t\")\n",
    "        for line in list(hapmap):\n",
    "            i=i+1\n",
    "        print(i)\n",
    "        \n",
    "           \n",
    "               "
   ]
  },
  {
   "cell_type": "code",
   "execution_count": null,
   "id": "df598277",
   "metadata": {},
   "outputs": [],
   "source": []
  }
 ],
 "metadata": {
  "kernelspec": {
   "display_name": "Python 3 (ipykernel)",
   "language": "python",
   "name": "python3"
  },
  "language_info": {
   "codemirror_mode": {
    "name": "ipython",
    "version": 3
   },
   "file_extension": ".py",
   "mimetype": "text/x-python",
   "name": "python",
   "nbconvert_exporter": "python",
   "pygments_lexer": "ipython3",
   "version": "3.9.13"
  }
 },
 "nbformat": 4,
 "nbformat_minor": 5
}
